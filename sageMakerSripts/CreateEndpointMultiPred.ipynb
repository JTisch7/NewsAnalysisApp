{
 "cells": [
  {
   "cell_type": "code",
   "execution_count": null,
   "id": "f5d45622",
   "metadata": {},
   "outputs": [],
   "source": [
    "import tarfile"
   ]
  },
  {
   "cell_type": "code",
   "execution_count": null,
   "id": "afb67629",
   "metadata": {},
   "outputs": [],
   "source": [
    "with tarfile.open('model.tar.gz', mode='w:gz') as archive:\n",
    "    archive.add('export', recursive=True)"
   ]
  },
  {
   "cell_type": "code",
   "execution_count": null,
   "id": "32197a80",
   "metadata": {},
   "outputs": [],
   "source": [
    "!touch train.py"
   ]
  },
  {
   "cell_type": "code",
   "execution_count": null,
   "id": "18de149a",
   "metadata": {},
   "outputs": [],
   "source": [
    "!touch inference.py"
   ]
  },
  {
   "cell_type": "code",
   "execution_count": null,
   "id": "df81dce8",
   "metadata": {},
   "outputs": [],
   "source": [
    "!touch requirements.txt"
   ]
  },
  {
   "cell_type": "code",
   "execution_count": 28,
   "id": "53cdcb07",
   "metadata": {},
   "outputs": [],
   "source": [
    "import sagemaker\n",
    "\n",
    "sagemaker_session = sagemaker.Session()\n",
    "inputs = sagemaker_session.upload_data(path='model.tar.gz', key_prefix='model')"
   ]
  },
  {
   "cell_type": "code",
   "execution_count": 29,
   "id": "aa158a4a",
   "metadata": {},
   "outputs": [
    {
     "data": {
      "text/plain": [
       "'sagemaker-us-west-1-088213581398'"
      ]
     },
     "execution_count": 29,
     "metadata": {},
     "output_type": "execute_result"
    }
   ],
   "source": [
    "sagemaker_session.default_bucket()"
   ]
  },
  {
   "cell_type": "code",
   "execution_count": 30,
   "id": "fa0c7c13",
   "metadata": {},
   "outputs": [],
   "source": [
    "from sagemaker import get_execution_role\n",
    "role = get_execution_role()"
   ]
  },
  {
   "cell_type": "code",
   "execution_count": 31,
   "id": "0d5c846a",
   "metadata": {},
   "outputs": [
    {
     "name": "stderr",
     "output_type": "stream",
     "text": [
      "update_endpoint is a no-op in sagemaker>=2.\n",
      "See: https://sagemaker.readthedocs.io/en/stable/v2.html for details.\n"
     ]
    },
    {
     "name": "stdout",
     "output_type": "stream",
     "text": [
      "---------------!"
     ]
    }
   ],
   "source": [
    "from sagemaker.tensorflow import TensorFlowModel\n",
    "\n",
    "model = TensorFlowModel(model_data = 's3://' + sagemaker_session.default_bucket() + '/model/model.tar.gz', \n",
    "                        role = role, \n",
    "                        entry_point='inference.py',\n",
    "                        source_dir='src',\n",
    "                        framework_version='2.1')\n",
    "\n",
    "predictor = model.deploy(initial_instance_count=1, instance_type='ml.t2.medium')"
   ]
  },
  {
   "cell_type": "code",
   "execution_count": 36,
   "id": "d786585b",
   "metadata": {},
   "outputs": [
    {
     "name": "stderr",
     "output_type": "stream",
     "text": [
      "The endpoint attribute has been renamed in sagemaker>=2.\n",
      "See: https://sagemaker.readthedocs.io/en/stable/v2.html for details.\n"
     ]
    },
    {
     "data": {
      "text/plain": [
       "[[0.897781968, 0.00623450102, 0.0959835574],\n",
       " [0.296967685, 0.137415558, 0.565616786]]"
      ]
     },
     "execution_count": 36,
     "metadata": {},
     "output_type": "execute_result"
    }
   ],
   "source": [
    "import json\n",
    "import boto3\n",
    "import numpy as np\n",
    "import io\n",
    "\n",
    "endpoint_name = predictor.endpoint\n",
    "\n",
    "client = boto3.client('runtime.sagemaker', region_name='us-west-1')\n",
    "\n",
    "#data = [[3,4,4,5,5,5,5,5,5,5,3,4,4,5,5,5,5,5,5,5,3,4,4,5,5,5,5,5,5,5,3,4,4,5,5,5,5,5,5,5,3,4,4,5,5,5,5,5,5,5,3,4,4,5,5,5,5,5,5,5,3,4,4,5,5,5,5,5,5,5,3,4,4,5,5,5,5,5,5,5,3,4,4,5,5,5,5,5,5,5,3,4,4,5,5,5,5,5,5,5],[3,4,4,5,5,5,5,5,5,5,3,4,4,5,5,5,5,5,5,5,3,4,4,5,5,5,5,5,5,5,3,4,4,5,5,5,5,5,5,5,3,4,4,5,5,5,5,5,5,5,3,4,4,5,5,5,5,5,5,5,3,4,4,5,5,5,5,5,5,5,3,4,4,5,5,5,5,5,5,5,3,4,4,5,5,5,5,5,5,5,3,4,4,5,5,5,5,5,5,5]]\n",
    "#TestData = {\"instances\": [{\"input_token\":[1,2,4,4,4,4,4,4,4,4,1,2,4,4,4,4,4,4,4,4,1,2,4,4,4,4,4,4,4,4,1,2,4,4,4,4,4,4,4,4,1,2,4,4,4,4,4,4,4,4,1,2,4,4,4,4,4,4,4,4,1,2,4,4,4,4,4,4,4,4,1,2,4,4,4,4,4,4,4,4,1,2,4,4,4,4,4,4,4,4,1,2,4,4,4,4,4,4,4,4], \"masked_token\":[3,4,4,5,5,5,5,5,5,5,3,4,4,5,5,5,5,5,5,5,3,4,4,5,5,5,5,5,5,5,3,4,4,5,5,5,5,5,5,5,3,4,4,5,5,5,5,5,5,5,3,4,4,5,5,5,5,5,5,5,3,4,4,5,5,5,5,5,5,5,3,4,4,5,5,5,5,5,5,5,3,4,4,5,5,5,5,5,5,5,3,4,4,5,5,5,5,5,5,5]}]}\n",
    "\n",
    "textext = 'the stock is great and good'\n",
    "text2 = 'the stock is bad and terrible'\n",
    "\n",
    "inp = {'instances':[{\"text\": 'the stock is doing great!'},{\"text\": 'the stock is doing terrible'}]}\n",
    "\n",
    "payload = json.dumps(inp)\n",
    "\n",
    "response = client.invoke_endpoint(EndpointName=endpoint_name,\n",
    "                                  ContentType='application/json',\n",
    "                                  Body=payload)\n",
    "\n",
    "response1 = response[\"Body\"].read()\n",
    "result = json.loads(response1.decode())\n",
    "\n",
    "\n",
    "prediction = result['predictions']\n",
    "prediction\n"
   ]
  },
  {
   "cell_type": "code",
   "execution_count": 27,
   "id": "60465fdb",
   "metadata": {},
   "outputs": [
    {
     "name": "stderr",
     "output_type": "stream",
     "text": [
      "The endpoint attribute has been renamed in sagemaker>=2.\n",
      "See: https://sagemaker.readthedocs.io/en/stable/v2.html for details.\n"
     ]
    },
    {
     "data": {
      "text/plain": [
      ]
     },
     "execution_count": 27,
     "metadata": {},
     "output_type": "execute_result"
    }
   ],
   "source": [
    "predictor.endpoint"
   ]
  }
 ],
 "metadata": {
  "kernelspec": {
   "display_name": "conda_tensorflow_p36",
   "language": "python",
   "name": "conda_tensorflow_p36"
  },
  "language_info": {
   "codemirror_mode": {
    "name": "ipython",
    "version": 3
   },
   "file_extension": ".py",
   "mimetype": "text/x-python",
   "name": "python",
   "nbconvert_exporter": "python",
   "pygments_lexer": "ipython3",
   "version": "3.6.13"
  }
 },
 "nbformat": 4,
 "nbformat_minor": 5
}
